{
 "cells": [
  {
   "cell_type": "code",
   "execution_count": 5,
   "metadata": {
    "collapsed": true
   },
   "outputs": [],
   "source": [
    "from IPython.display import display\n",
    "import pandas as pd\n",
    "import matplotlib.pyplot as plt\n",
    "\n",
    "# Funciones que utilizaremos:\n",
    "\n",
    "def cargar_datos(csv_filename):\n",
    "    df = pd.read_csv(csv_filename)\n",
    "    X = df.drop(\"survived\", axis=1)\n",
    "    y = df.survived\n",
    "    return X, y\n",
    "\n",
    "def predict_instance(x):\n",
    "    ## COMPLETAR AQUI. Modificar las siguientes líneas\n",
    "    # la variable prediction debe contener la etiqueta 0 o 1 \n",
    "    # este será su algoritmo algoritmo para predecir si sobrevivirá o no por instancia.\n",
    "    halp = [\n",
    "        lambda x: x.sex == \"female\",\n",
    "        lambda x: x.age < 10,\n",
    "        lambda x: x.fare >= 120,\n",
    "    ]\n",
    "    return 1 if any(map(lambda f: f(x), halp)) else 0\n",
    "\n",
    "\n",
    "def predict(X):\n",
    "    y_predicted = []\n",
    "    for x in X.itertuples(): \n",
    "                \n",
    "        y_i = predict_instance(x) \n",
    "        \n",
    "        y_predicted.append(y_i)\n",
    "    return y_predicted\n",
    "    \n",
    "def accuracy(y_predicted, y_real):\n",
    "    return sum([y_i == y_j for (y_i, y_j) in zip(y_predicted, y_real)])/len(y_real)"
   ]
  },
  {
   "cell_type": "code",
   "execution_count": 6,
   "metadata": {},
   "outputs": [
    {
     "name": "stdout",
     "output_type": "stream",
     "text": [
      "Accuracy final:  0.779\n"
     ]
    }
   ],
   "source": [
    "# Codigo a ejecutar:\n",
    "\n",
    "X, y = cargar_datos(csv_filename=\"titanic.csv\")\n",
    "# Recomendación: explorar los datos X para ver que pinta tienen. \n",
    "\n",
    "y_pred = predict(X)\n",
    "# Completar el algoritmo para mejorar esta performance. \n",
    "\n",
    "print(\"Accuracy final: \", round(accuracy(y_pred, y), 3))"
   ]
  },
  {
   "cell_type": "code",
   "execution_count": 114,
   "metadata": {},
   "outputs": [
    {
     "data": {
      "image/png": "[encoded data removed]",
      "text/plain": [
       "<matplotlib.figure.Figure at 0x10ae07f98>"
      ]
     },
     "metadata": {},
     "output_type": "display_data"
    }
   ],
   "source": [
    "X.fare.hist()\n",
    "plt.show()"
   ]
  }
 ],
 "metadata": {
  "kernelspec": {
   "display_name": "Python 3",
   "language": "python",
   "name": "python3"
  },
  "language_info": {
   "codemirror_mode": {
    "name": "ipython",
    "version": 3
   },
   "file_extension": ".py",
   "mimetype": "text/x-python",
   "name": "python",
   "nbconvert_exporter": "python",
   "pygments_lexer": "ipython3",
   "version": "3.6.5"
  }
 },
 "nbformat": 4,
 "nbformat_minor": 2
}
